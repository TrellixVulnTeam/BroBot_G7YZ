{
 "cells": [
  {
   "cell_type": "code",
   "execution_count": 9,
   "metadata": {},
   "outputs": [],
   "source": [
    "import pandas as pd\n",
    "import numpy as np\n",
    "import preprocessor as p\n",
    "import re\n",
    "# !pip install tweet-preprocessor"
   ]
  },
  {
   "cell_type": "code",
   "execution_count": 3,
   "metadata": {},
   "outputs": [],
   "source": [
    "data1 = 'Data/archive-txt/'\n",
    "data2 = 'Data/Tweets_Full_Data_data.xlsx'\n",
    "data3 = 'Data/20200325_counsel_chat.csv'"
   ]
  },
  {
   "cell_type": "code",
   "execution_count": 8,
   "metadata": {},
   "outputs": [],
   "source": [
    "counsel_df = pd.read_csv(data3)\n",
    "counsel_df = counsel_df.drop(columns=['questionID','Unnamed: 0', 'questionLink', 'therapistInfo', \n",
    "                                      'therapistURL','upvotes','views','split'])\n"
   ]
  },
  {
   "cell_type": "code",
   "execution_count": 11,
   "metadata": {},
   "outputs": [
    {
     "data": {
      "text/plain": [
       "['hello', ' im valeed', ' how are you', ' but im fine']"
      ]
     },
     "execution_count": 11,
     "metadata": {},
     "output_type": "execute_result"
    }
   ],
   "source": [
    "test = 'hello. im valeed. how are you! but im fine'\n",
    "re.split('[?!.,]', test)"
   ]
  },
  {
   "cell_type": "code",
   "execution_count": 66,
   "metadata": {},
   "outputs": [
    {
     "data": {
      "text/html": [
       "<div>\n",
       "<style scoped>\n",
       "    .dataframe tbody tr th:only-of-type {\n",
       "        vertical-align: middle;\n",
       "    }\n",
       "\n",
       "    .dataframe tbody tr th {\n",
       "        vertical-align: top;\n",
       "    }\n",
       "\n",
       "    .dataframe thead th {\n",
       "        text-align: right;\n",
       "    }\n",
       "</style>\n",
       "<table border=\"1\" class=\"dataframe\">\n",
       "  <thead>\n",
       "    <tr style=\"text-align: right;\">\n",
       "      <th></th>\n",
       "      <th>sentence</th>\n",
       "      <th>topic</th>\n",
       "    </tr>\n",
       "  </thead>\n",
       "  <tbody>\n",
       "    <tr>\n",
       "      <th>0</th>\n",
       "      <td>Can I change my feeling of being worthless to ...</td>\n",
       "      <td>depression</td>\n",
       "    </tr>\n",
       "    <tr>\n",
       "      <th>1</th>\n",
       "      <td>I'm going through some things with my feelings...</td>\n",
       "      <td>depression</td>\n",
       "    </tr>\n",
       "    <tr>\n",
       "      <th>2</th>\n",
       "      <td>I barely sleep and I do nothing but think abou...</td>\n",
       "      <td>depression</td>\n",
       "    </tr>\n",
       "    <tr>\n",
       "      <th>3</th>\n",
       "      <td>I've never tried or contemplated suicide</td>\n",
       "      <td>depression</td>\n",
       "    </tr>\n",
       "    <tr>\n",
       "      <th>4</th>\n",
       "      <td>I've always wanted to fix my issues, but I nev...</td>\n",
       "      <td>depression</td>\n",
       "    </tr>\n",
       "  </tbody>\n",
       "</table>\n",
       "</div>"
      ],
      "text/plain": [
       "                                            sentence       topic\n",
       "0  Can I change my feeling of being worthless to ...  depression\n",
       "1  I'm going through some things with my feelings...  depression\n",
       "2  I barely sleep and I do nothing but think abou...  depression\n",
       "3           I've never tried or contemplated suicide  depression\n",
       "4  I've always wanted to fix my issues, but I nev...  depression"
      ]
     },
     "execution_count": 66,
     "metadata": {},
     "output_type": "execute_result"
    }
   ],
   "source": [
    "topics_df = counsel_df.drop(columns=['answerText'])\n",
    "topics_df = topics_df.drop_duplicates(subset=['questionTitle','questionText'])\n",
    "topics_df['sentence'] = topics_df.questionTitle + ' ' + topics_df.questionText\n",
    "topics_df = topics_df.drop(columns=['questionTitle','questionText'])\n",
    "topics_df['sentence'] = topics_df.sentence.str.replace(':','')\n",
    "topics_df['sentence'] = topics_df.sentence.str.replace('\\n','')\n",
    "topics_df['sentence'] = topics_df.sentence.str.replace('’','\\'')\n",
    "\n",
    "tmp = topics_df.topic.copy()\n",
    "topics_df.topic = topics_df.sentence\n",
    "topics_df.sentence = tmp\n",
    "topics_df.columns = ['sentence','topic']\n",
    "\n",
    "\n",
    "# for nlu2 \n",
    "dataframes = []\n",
    "for topic in topics_df.topic.unique():\n",
    "    sentences = []\n",
    "    sub_df = topics_df[topics_df.topic == topic]\n",
    "    for sent in sub_df.sentence:\n",
    "        sentences += re.split('[?!.]',sent)\n",
    "    sentences = [s.strip() for s in sentences if s!='']\n",
    "        \n",
    "    d = {\n",
    "            'sentence': sentences,\n",
    "             'topic': [topic for i in range(len(sentences))]\n",
    "        }\n",
    "    dataframes.append(pd.DataFrame(data=d))\n",
    "\n",
    "final = pd.concat(dataframes)\n",
    "final.head()"
   ]
  },
  {
   "cell_type": "code",
   "execution_count": 67,
   "metadata": {},
   "outputs": [],
   "source": [
    "intents = final.topic.unique()\n",
    "intents = [\"topic_\"+ i for i in intents]"
   ]
  },
  {
   "cell_type": "code",
   "execution_count": 68,
   "metadata": {},
   "outputs": [
    {
     "name": "stdout",
     "output_type": "stream",
     "text": [
      "['topic_depression', 'topic_anxiety', 'topic_parenting', 'topic_self-esteem', 'topic_relationship-dissolution', 'topic_workplace-relationships', 'topic_spirituality', 'topic_trauma', 'topic_domestic-violence', 'topic_anger-management', 'topic_sleep-improvement', 'topic_intimacy', 'topic_grief-and-loss', 'topic_substance-abuse', 'topic_family-conflict', 'topic_marriage', 'topic_eating-disorders', 'topic_relationships', 'topic_lgbtq', 'topic_behavioral-change', 'topic_addiction', 'topic_legal-regulatory', 'topic_professional-ethics', 'topic_stress', 'topic_human-sexuality', 'topic_social-relationships', 'topic_children-adolescents', 'topic_military-issues', 'topic_diagnosis', 'topic_counseling-fundamentals']\n"
     ]
    }
   ],
   "source": [
    "file = \"nlu2.yml\"\n",
    "print(intents)\n",
    "write_all_intents(file, intents, final)"
   ]
  },
  {
   "cell_type": "code",
   "execution_count": 4,
   "metadata": {},
   "outputs": [],
   "source": [
    "\n",
    "tweet_df = pd.read_excel(data2)\n",
    "clean = [p.clean(t) for t in tweet_df.Tweet]\n",
    "bad = ['(',')','-','{','}']\n",
    "tweet_df.Tweet = [re.sub(r'[(){}\\-\\\\]', '', t).strip().lower() for t in clean]\n",
    "tweet_df = tweet_df.drop(['Id','Score (bin)', 'Testflag','Score'], axis=1)\n",
    "tweet_df = tweet_df.rename(columns={\"Tweet\": \"sentence\", \"Emotion\": \"emotion\"})\n"
   ]
  },
  {
   "cell_type": "code",
   "execution_count": 5,
   "metadata": {},
   "outputs": [],
   "source": [
    "train_df = pd.read_csv(data1+'train.txt', sep=\"\\n\", header=None)\n",
    "train_df.columns = [\"sent\"]\n",
    "train_df['sentence'] = train_df.sent.str.split(';').str[0]\n",
    "train_df['emotion'] = train_df.sent.str.split(';').str[1]\n",
    "train_df = train_df.drop(['sent'],axis=1)"
   ]
  },
  {
   "cell_type": "code",
   "execution_count": 6,
   "metadata": {},
   "outputs": [],
   "source": [
    "test_df = pd.read_csv(data1+'test.txt', sep=\"\\n\", header=None)\n",
    "test_df.columns = [\"sent\"]\n",
    "test_df['sentence'] = test_df.sent.str.split(';').str[0]\n",
    "test_df['emotion'] = test_df.sent.str.split(';').str[1]\n",
    "test_df = test_df.drop(['sent'],axis=1)"
   ]
  },
  {
   "cell_type": "code",
   "execution_count": 7,
   "metadata": {},
   "outputs": [],
   "source": [
    "val_df = pd.read_csv(data1+'val.txt', sep=\"\\n\", header=None)\n",
    "val_df.columns = [\"sent\"]\n",
    "val_df['sentence'] = val_df.sent.str.split(';').str[0]\n",
    "val_df['emotion'] = val_df.sent.str.split(';').str[1]\n",
    "val_df = val_df.drop(['sent'],axis=1)"
   ]
  },
  {
   "cell_type": "code",
   "execution_count": 8,
   "metadata": {},
   "outputs": [
    {
     "data": {
      "text/plain": [
       "array(['mood_anger', 'mood_fear', 'mood_joy', 'mood_love', 'mood_sadness',\n",
       "       'mood_surprise'], dtype='<U13')"
      ]
     },
     "execution_count": 8,
     "metadata": {},
     "output_type": "execute_result"
    }
   ],
   "source": [
    "val_df.sentence = val_df.sentence.str.lower()\n",
    "intents = val_df.emotion.unique()\n",
    "intents1 = [\"mood_\"+ i for i in intents]\n",
    "intents2 =[\"mood_\"+ i for i in tweet_df.emotion.unique()]\n",
    "intents = np.unique(intents1+intents2)\n",
    "intents"
   ]
  },
  {
   "cell_type": "code",
   "execution_count": 13,
   "metadata": {},
   "outputs": [
    {
     "data": {
      "text/html": [
       "<div>\n",
       "<style scoped>\n",
       "    .dataframe tbody tr th:only-of-type {\n",
       "        vertical-align: middle;\n",
       "    }\n",
       "\n",
       "    .dataframe tbody tr th {\n",
       "        vertical-align: top;\n",
       "    }\n",
       "\n",
       "    .dataframe thead th {\n",
       "        text-align: right;\n",
       "    }\n",
       "</style>\n",
       "<table border=\"1\" class=\"dataframe\">\n",
       "  <thead>\n",
       "    <tr style=\"text-align: right;\">\n",
       "      <th></th>\n",
       "      <th>sentence</th>\n",
       "      <th>emotion</th>\n",
       "    </tr>\n",
       "  </thead>\n",
       "  <tbody>\n",
       "    <tr>\n",
       "      <th>10024</th>\n",
       "      <td>when my little sister was sick at home and i t...</td>\n",
       "      <td>fear</td>\n",
       "    </tr>\n",
       "    <tr>\n",
       "      <th>11159</th>\n",
       "      <td>i was feeling so rotten about it</td>\n",
       "      <td>sadness</td>\n",
       "    </tr>\n",
       "    <tr>\n",
       "      <th>20434</th>\n",
       "      <td>my momma irritate me asking all these question...</td>\n",
       "      <td>anger</td>\n",
       "    </tr>\n",
       "    <tr>\n",
       "      <th>15187</th>\n",
       "      <td>id have spent more time with her on reading i ...</td>\n",
       "      <td>sadness</td>\n",
       "    </tr>\n",
       "    <tr>\n",
       "      <th>5023</th>\n",
       "      <td>i feel glamorous rich enough for enriching my ...</td>\n",
       "      <td>joy</td>\n",
       "    </tr>\n",
       "  </tbody>\n",
       "</table>\n",
       "</div>"
      ],
      "text/plain": [
       "                                                sentence  emotion\n",
       "10024  when my little sister was sick at home and i t...     fear\n",
       "11159                   i was feeling so rotten about it  sadness\n",
       "20434  my momma irritate me asking all these question...    anger\n",
       "15187  id have spent more time with her on reading i ...  sadness\n",
       "5023   i feel glamorous rich enough for enriching my ...      joy"
      ]
     },
     "execution_count": 13,
     "metadata": {},
     "output_type": "execute_result"
    }
   ],
   "source": [
    "data = pd.concat([train_df, test_df, val_df,tweet_df], ignore_index=True)\n",
    "data = data.sample(frac=1)\n",
    "data.head()"
   ]
  },
  {
   "cell_type": "code",
   "execution_count": 40,
   "metadata": {},
   "outputs": [],
   "source": [
    "def write_intent(file, examples, intent):\n",
    "    f = file\n",
    "    f.write(\"- intent: \"+ intent + \"\\n\" + \"  examples: |\" + \"\\n\")\n",
    "    for e in examples:\n",
    "        f.write(\"    - \"+ e + \"\\n\")\n",
    "    "
   ]
  },
  {
   "cell_type": "code",
   "execution_count": 39,
   "metadata": {},
   "outputs": [],
   "source": [
    "def write_all_intents(file_name, intents, df):\n",
    "    f = open(file,\"w\")\n",
    "    for i in intents:\n",
    "        intent = i.split(\"_\")[1]\n",
    "        examples = [s for s in df[df.topic == intent].sentence]\n",
    "        write_intent(f, examples, i)\n",
    "    f.close()\n",
    "    "
   ]
  },
  {
   "cell_type": "code",
   "execution_count": 12,
   "metadata": {},
   "outputs": [],
   "source": [
    "file = \"nlu.yml\"\n",
    "print(intents)\n",
    "write_all_intents(file, intents, data)"
   ]
  }
 ],
 "metadata": {
  "kernelspec": {
   "display_name": "Python 3",
   "language": "python",
   "name": "python3"
  },
  "language_info": {
   "codemirror_mode": {
    "name": "ipython",
    "version": 3
   },
   "file_extension": ".py",
   "mimetype": "text/x-python",
   "name": "python",
   "nbconvert_exporter": "python",
   "pygments_lexer": "ipython3",
   "version": "3.8.3rc1"
  }
 },
 "nbformat": 4,
 "nbformat_minor": 4
}
