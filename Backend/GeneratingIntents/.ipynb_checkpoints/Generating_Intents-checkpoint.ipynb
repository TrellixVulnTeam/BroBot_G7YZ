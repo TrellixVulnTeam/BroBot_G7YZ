{
 "cells": [
  {
   "cell_type": "code",
   "execution_count": 1,
   "metadata": {},
   "outputs": [],
   "source": [
    "import pandas as pd\n",
    "import numpy as np\n",
    "import preprocessor as p\n",
    "# !pip install tweet-preprocessor"
   ]
  },
  {
   "cell_type": "code",
   "execution_count": 2,
   "metadata": {},
   "outputs": [
    {
     "data": {
      "text/plain": [
       "'Preprocessor is'"
      ]
     },
     "execution_count": 2,
     "metadata": {},
     "output_type": "execute_result"
    }
   ],
   "source": [
    "p.clean('Preprocessor is #awesome 👍 https://github.com/s/preprocessor')"
   ]
  },
  {
   "cell_type": "code",
   "execution_count": 3,
   "metadata": {},
   "outputs": [],
   "source": [
    "data1 = 'Data/archive-txt/'\n",
    "data2 = 'Data/Tweets_Full_Data_data.xlsx'"
   ]
  },
  {
   "cell_type": "code",
   "execution_count": 4,
   "metadata": {},
   "outputs": [],
   "source": [
    "import re\n",
    "tweet_df = pd.read_excel(data2)\n",
    "clean = [p.clean(t) for t in tweet_df.Tweet]\n",
    "bad = ['(',')','-','{','}']\n",
    "tweet_df.Tweet = [re.sub(r'[(){}\\-\\\\]', '', t).strip().lower() for t in clean]\n",
    "tweet_df = tweet_df.drop(['Id','Score (bin)', 'Testflag','Score'], axis=1)\n",
    "tweet_df = tweet_df.rename(columns={\"Tweet\": \"sentence\", \"Emotion\": \"emotion\"})\n"
   ]
  },
  {
   "cell_type": "code",
   "execution_count": 5,
   "metadata": {},
   "outputs": [],
   "source": [
    "train_df = pd.read_csv(data1+'train.txt', sep=\"\\n\", header=None)\n",
    "train_df.columns = [\"sent\"]\n",
    "train_df['sentence'] = train_df.sent.str.split(';').str[0]\n",
    "train_df['emotion'] = train_df.sent.str.split(';').str[1]\n",
    "train_df = train_df.drop(['sent'],axis=1)"
   ]
  },
  {
   "cell_type": "code",
   "execution_count": 6,
   "metadata": {},
   "outputs": [],
   "source": [
    "test_df = pd.read_csv(data1+'test.txt', sep=\"\\n\", header=None)\n",
    "test_df.columns = [\"sent\"]\n",
    "test_df['sentence'] = test_df.sent.str.split(';').str[0]\n",
    "test_df['emotion'] = test_df.sent.str.split(';').str[1]\n",
    "test_df = test_df.drop(['sent'],axis=1)"
   ]
  },
  {
   "cell_type": "code",
   "execution_count": 7,
   "metadata": {},
   "outputs": [],
   "source": [
    "val_df = pd.read_csv(data1+'val.txt', sep=\"\\n\", header=None)\n",
    "val_df.columns = [\"sent\"]\n",
    "val_df['sentence'] = val_df.sent.str.split(';').str[0]\n",
    "val_df['emotion'] = val_df.sent.str.split(';').str[1]\n",
    "val_df = val_df.drop(['sent'],axis=1)"
   ]
  },
  {
   "cell_type": "code",
   "execution_count": 8,
   "metadata": {},
   "outputs": [
    {
     "data": {
      "text/plain": [
       "array(['mood_anger', 'mood_fear', 'mood_joy', 'mood_love', 'mood_sadness',\n",
       "       'mood_surprise'], dtype='<U13')"
      ]
     },
     "execution_count": 8,
     "metadata": {},
     "output_type": "execute_result"
    }
   ],
   "source": [
    "val_df.sentence = val_df.sentence.str.lower()\n",
    "intents = val_df.emotion.unique()\n",
    "intents1 = [\"mood_\"+ i for i in intents]\n",
    "intents2 =[\"mood_\"+ i for i in tweet_df.emotion.unique()]\n",
    "intents = np.unique(intents1+intents2)\n",
    "intents"
   ]
  },
  {
   "cell_type": "code",
   "execution_count": 13,
   "metadata": {},
   "outputs": [
    {
     "data": {
      "text/html": [
       "<div>\n",
       "<style scoped>\n",
       "    .dataframe tbody tr th:only-of-type {\n",
       "        vertical-align: middle;\n",
       "    }\n",
       "\n",
       "    .dataframe tbody tr th {\n",
       "        vertical-align: top;\n",
       "    }\n",
       "\n",
       "    .dataframe thead th {\n",
       "        text-align: right;\n",
       "    }\n",
       "</style>\n",
       "<table border=\"1\" class=\"dataframe\">\n",
       "  <thead>\n",
       "    <tr style=\"text-align: right;\">\n",
       "      <th></th>\n",
       "      <th>sentence</th>\n",
       "      <th>emotion</th>\n",
       "    </tr>\n",
       "  </thead>\n",
       "  <tbody>\n",
       "    <tr>\n",
       "      <th>10024</th>\n",
       "      <td>when my little sister was sick at home and i t...</td>\n",
       "      <td>fear</td>\n",
       "    </tr>\n",
       "    <tr>\n",
       "      <th>11159</th>\n",
       "      <td>i was feeling so rotten about it</td>\n",
       "      <td>sadness</td>\n",
       "    </tr>\n",
       "    <tr>\n",
       "      <th>20434</th>\n",
       "      <td>my momma irritate me asking all these question...</td>\n",
       "      <td>anger</td>\n",
       "    </tr>\n",
       "    <tr>\n",
       "      <th>15187</th>\n",
       "      <td>id have spent more time with her on reading i ...</td>\n",
       "      <td>sadness</td>\n",
       "    </tr>\n",
       "    <tr>\n",
       "      <th>5023</th>\n",
       "      <td>i feel glamorous rich enough for enriching my ...</td>\n",
       "      <td>joy</td>\n",
       "    </tr>\n",
       "  </tbody>\n",
       "</table>\n",
       "</div>"
      ],
      "text/plain": [
       "                                                sentence  emotion\n",
       "10024  when my little sister was sick at home and i t...     fear\n",
       "11159                   i was feeling so rotten about it  sadness\n",
       "20434  my momma irritate me asking all these question...    anger\n",
       "15187  id have spent more time with her on reading i ...  sadness\n",
       "5023   i feel glamorous rich enough for enriching my ...      joy"
      ]
     },
     "execution_count": 13,
     "metadata": {},
     "output_type": "execute_result"
    }
   ],
   "source": [
    "data = pd.concat([train_df, test_df, val_df,tweet_df], ignore_index=True)\n",
    "data = data.sample(frac=1)\n",
    "data.head()"
   ]
  },
  {
   "cell_type": "code",
   "execution_count": 10,
   "metadata": {},
   "outputs": [],
   "source": [
    "def write_intent(file, examples, intent):\n",
    "    f = file\n",
    "    f.write(\"- intent: \"+ intent + \"\\n\" + \"  examples: |\" + \"\\n\")\n",
    "    for e in examples:\n",
    "        f.write(\"    - \"+ e + \"\\n\")\n",
    "    "
   ]
  },
  {
   "cell_type": "code",
   "execution_count": 11,
   "metadata": {},
   "outputs": [],
   "source": [
    "def write_all_intents(file_name, df):\n",
    "    f = open(file,\"w\")\n",
    "    for i in intents:\n",
    "        intent = i.split(\"_\")[1]\n",
    "        examples = [s for s in df[df.emotion == intent].sentence]\n",
    "        write_intent(f, examples, i)\n",
    "    f.close()\n",
    "    "
   ]
  },
  {
   "cell_type": "code",
   "execution_count": 12,
   "metadata": {},
   "outputs": [],
   "source": [
    "file = \"nlu.yml\"\n",
    "write_all_intents(file, data)"
   ]
  }
 ],
 "metadata": {
  "kernelspec": {
   "display_name": "Python 3",
   "language": "python",
   "name": "python3"
  },
  "language_info": {
   "codemirror_mode": {
    "name": "ipython",
    "version": 3
   },
   "file_extension": ".py",
   "mimetype": "text/x-python",
   "name": "python",
   "nbconvert_exporter": "python",
   "pygments_lexer": "ipython3",
   "version": "3.8.3rc1"
  }
 },
 "nbformat": 4,
 "nbformat_minor": 4
}
